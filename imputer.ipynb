{
 "cells": [
  {
   "cell_type": "code",
   "execution_count": 1,
   "metadata": {},
   "outputs": [],
   "source": [
    "import pandas as pd\n",
    "\n",
    "csv_url = \"./data/Traffic_Violations.csv\"\n",
    "##csv_url = \"https://data.montgomerycountymd.gov/api/views/4mse-ku6q/rows.csv?accessType=DOWNLOAD\"\n",
    "df = pd.read_csv(csv_url)"
   ]
  },
  {
   "cell_type": "code",
   "execution_count": 2,
   "metadata": {},
   "outputs": [],
   "source": [
    "# Removed columns that do not contribute to outcome or are incomplete\n",
    "# Some columns I removed here like longitude may make a nice visual for later\n",
    "columns_to_drop = [\n",
    "        'SeqID',\n",
    "        'HAZMAT',\n",
    "        'Search Conducted',\n",
    "        'Search Disposition',\n",
    "        'Search Outcome',\n",
    "        'Search Type',\n",
    "        'Article',\n",
    "        'Contributed To Accident',\n",
    "        'Arrest Type',\n",
    "        'Search Reason',\n",
    "        'Search Reason For Stop',\n",
    "        'Charge',\n",
    "        'Search Arrest Reason']\n",
    "\n",
    "# Drop the specified columns\n",
    "df.drop(columns=columns_to_drop, errors='ignore', inplace=True)"
   ]
  },
  {
   "cell_type": "code",
   "execution_count": 5,
   "metadata": {},
   "outputs": [
    {
     "data": {
      "text/plain": [
       "Date Of Stop          0\n",
       "Year_Stop             0\n",
       "Geolocation           0\n",
       "DL State              0\n",
       "Driver State          0\n",
       "Driver City           0\n",
       "Gender                0\n",
       "Race                  0\n",
       "Violation Type        0\n",
       "Color                 0\n",
       "Model                 0\n",
       "Make                  0\n",
       "Year                  0\n",
       "VehicleType           0\n",
       "State                 0\n",
       "Month_Stop            0\n",
       "Work Zone             0\n",
       "Commercial Vehicle    0\n",
       "Commercial License    0\n",
       "Fatal                 0\n",
       "Property Damage       0\n",
       "Personal Injury       0\n",
       "Belts                 0\n",
       "Accident              0\n",
       "Longitude             0\n",
       "Latitude              0\n",
       "Location              0\n",
       "Description           0\n",
       "SubAgency             0\n",
       "Agency                0\n",
       "Time Of Stop          0\n",
       "Alcohol               0\n",
       "Day_Stop              0\n",
       "dtype: int64"
      ]
     },
     "execution_count": 5,
     "metadata": {},
     "output_type": "execute_result"
    }
   ],
   "source": [
    "from sklearn.preprocessing import LabelEncoder\n",
    "from sklearn.experimental import enable_iterative_imputer\n",
    "from sklearn.impute import IterativeImputer\n",
    "\n",
    "\n",
    "\n",
    "label_encoder = LabelEncoder()\n",
    "for col in ['VehicleType', 'Make', 'Model', 'Color', 'State','Description','Location','Driver State','DL State','Driver City']:\n",
    "    df[col] = label_encoder.fit_transform(df[col])\n",
    "\n",
    "df['Date Of Stop'] = pd.to_datetime(df['Date Of Stop'])\n",
    "df['Year_Stop'] = df['Date Of Stop'].dt.year\n",
    "df['Month_Stop'] = df['Date Of Stop'].dt.month\n",
    "df['Day_Stop'] = df['Date Of Stop'].dt.day\n",
    "year_imputer = IterativeImputer(max_iter=10, random_state=0)\n",
    "df['Year'] = year_imputer.fit_transform(df[['Year']])\n",
    "\n",
    "df.isna().sum().sort_values()"
   ]
  },
  {
   "cell_type": "code",
   "execution_count": 4,
   "metadata": {},
   "outputs": [
    {
     "name": "stdout",
     "output_type": "stream",
     "text": [
      "<class 'pandas.core.frame.DataFrame'>\n",
      "RangeIndex: 1879912 entries, 0 to 1879911\n",
      "Data columns (total 33 columns):\n",
      " #   Column              Dtype         \n",
      "---  ------              -----         \n",
      " 0   Date Of Stop        datetime64[ns]\n",
      " 1   Time Of Stop        object        \n",
      " 2   Agency              object        \n",
      " 3   SubAgency           object        \n",
      " 4   Description         int32         \n",
      " 5   Location            int32         \n",
      " 6   Latitude            float64       \n",
      " 7   Longitude           float64       \n",
      " 8   Accident            object        \n",
      " 9   Belts               object        \n",
      " 10  Personal Injury     object        \n",
      " 11  Property Damage     object        \n",
      " 12  Fatal               object        \n",
      " 13  Commercial License  object        \n",
      " 14  Commercial Vehicle  object        \n",
      " 15  Alcohol             object        \n",
      " 16  Work Zone           object        \n",
      " 17  State               int32         \n",
      " 18  VehicleType         int32         \n",
      " 19  Year                float64       \n",
      " 20  Make                int32         \n",
      " 21  Model               int32         \n",
      " 22  Color               int32         \n",
      " 23  Violation Type      object        \n",
      " 24  Race                object        \n",
      " 25  Gender              object        \n",
      " 26  Driver City         int32         \n",
      " 27  Driver State        int32         \n",
      " 28  DL State            int32         \n",
      " 29  Geolocation         object        \n",
      " 30  Year_Stop           int32         \n",
      " 31  Month_Stop          int32         \n",
      " 32  Day_Stop            int32         \n",
      "dtypes: datetime64[ns](1), float64(3), int32(13), object(16)\n",
      "memory usage: 380.1+ MB\n"
     ]
    }
   ],
   "source": [
    "df.info()"
   ]
  },
  {
   "cell_type": "code",
   "execution_count": 8,
   "metadata": {},
   "outputs": [],
   "source": [
    "df.to_csv('data/Traffic_Violations_Imputed.csv', index=False)"
   ]
  }
 ],
 "metadata": {
  "kernelspec": {
   "display_name": "Python 3",
   "language": "python",
   "name": "python3"
  },
  "language_info": {
   "codemirror_mode": {
    "name": "ipython",
    "version": 3
   },
   "file_extension": ".py",
   "mimetype": "text/x-python",
   "name": "python",
   "nbconvert_exporter": "python",
   "pygments_lexer": "ipython3",
   "version": "3.11.5"
  }
 },
 "nbformat": 4,
 "nbformat_minor": 2
}
