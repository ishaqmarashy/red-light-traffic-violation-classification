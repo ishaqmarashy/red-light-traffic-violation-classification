{
 "cells": [
  {
   "cell_type": "markdown",
   "metadata": {
    "colab_type": "text",
    "id": "view-in-github"
   },
   "source": [
    "<a href=\"https://colab.research.google.com/github/ishaqmarashy/red-light-traffic-violation-classification/blob/main/decision%20tree%20classifier.ipynb\" target=\"_parent\"><img src=\"https://colab.research.google.com/assets/colab-badge.svg\" alt=\"Open In Colab\"/></a>"
   ]
  },
  {
   "cell_type": "code",
   "execution_count": 1,
   "metadata": {
    "id": "ot8RsUkAR87V"
   },
   "outputs": [],
   "source": [
    "import pandas as pd\n",
    "\n",
    "csv_url = \"./data/Traffic_Violations.csv\"\n",
    "##csv_url = \"https://data.montgomerycountymd.gov/api/views/4mse-ku6q/rows.csv?accessType=DOWNLOAD\"\n",
    "# Load the CSV data into a Pandas DataFrame\n",
    "df = pd.read_csv(csv_url)"
   ]
  },
  {
   "cell_type": "code",
   "execution_count": 2,
   "metadata": {},
   "outputs": [
    {
     "data": {
      "text/plain": [
       "['SeqID',\n",
       " 'Date Of Stop',\n",
       " 'Time Of Stop',\n",
       " 'Agency',\n",
       " 'SubAgency',\n",
       " 'Description',\n",
       " 'Location',\n",
       " 'Latitude',\n",
       " 'Longitude',\n",
       " 'Accident',\n",
       " 'Belts',\n",
       " 'Personal Injury',\n",
       " 'Property Damage',\n",
       " 'Fatal',\n",
       " 'Commercial License',\n",
       " 'HAZMAT',\n",
       " 'Commercial Vehicle',\n",
       " 'Alcohol',\n",
       " 'Work Zone',\n",
       " 'Search Conducted',\n",
       " 'Search Disposition',\n",
       " 'Search Outcome',\n",
       " 'Search Reason',\n",
       " 'Search Reason For Stop',\n",
       " 'Search Type',\n",
       " 'Search Arrest Reason',\n",
       " 'State',\n",
       " 'VehicleType',\n",
       " 'Year',\n",
       " 'Make',\n",
       " 'Model',\n",
       " 'Color',\n",
       " 'Violation Type',\n",
       " 'Charge',\n",
       " 'Article',\n",
       " 'Contributed To Accident',\n",
       " 'Race',\n",
       " 'Gender',\n",
       " 'Driver City',\n",
       " 'Driver State',\n",
       " 'DL State',\n",
       " 'Arrest Type',\n",
       " 'Geolocation']"
      ]
     },
     "execution_count": 2,
     "metadata": {},
     "output_type": "execute_result"
    }
   ],
   "source": [
    "list(df)"
   ]
  },
  {
   "cell_type": "code",
   "execution_count": 3,
   "metadata": {},
   "outputs": [
    {
     "data": {
      "text/plain": [
       "Description\n",
       "DRIVER FAILURE TO STOP AT STEADY CIRCULAR RED SIGNAL                                                 21716\n",
       "DRIVER FAIL TO STOP AT FLASHING RED TRAFFIC SIGNAL STOP LINE                                         18277\n",
       "DRIVER FAIL TO STOP AT RED TRAFFIC SIGNAL BEFORE RIGHT TURN                                           8121\n",
       "DRIVER FAIL TO STOP AT STEADY RED ARROW SIGNAL                                                        4290\n",
       "DRIVER FAIL TO STOP AT STEADY CIRCULAR RED SIGNAL                                                     1981\n",
       "DRIVER FAIL TO STOP AT STEADY CIRCULAR RED SIGNAL OR AT STEADY RED ARROW SIGNAL                        585\n",
       "DRIVER FAILING TO STOP AT RED SIGNAL BEFORE LEFT TURN                                                  295\n",
       "DRIVER FAIL TO STOP AT RED TRAFFIC SIGNAL BEFORE ANY OTHER TURN                                        216\n",
       "DRIVER FAILING TO STOP AT RED SIGNAL BEFORE LEFT TURN, MAKING IMPROPER LEFT TURN AT RED SIGNAL         212\n",
       "DRIVER FAILING TO STOP AT RED SIGNAL BEFORE LEFT TURN AT RED SIGNAL                                     11\n",
       "DRIVER FAILING TO STOP AT RED SIGNAL BEFORE LEFT TURN,                                                   8\n",
       "DRIVER FAILING TO STOP AT RED SIGNAL BEFORE LEFT TURN.                                                   6\n",
       "DRIVER FAILING TO STOP AT RED SIGNAL BEFORE MAKING IMPROPER LEFT TURN AT RED SIGNAL                      3\n",
       "DRIVER FAILING TO STOP AT RED SIGNAL BEFORE MAKING IMPROPER LEFT TURN AT RED SIGNAL)                     2\n",
       "DRIVER FAILING TO STOP AT FLASHING RED SIGNAL BEFORE LEFT TURN                                           1\n",
       "DRIVER FAILING TO STOP AT RED SIGNAL BEFORE LEFT TURN AT RED SIGNAL)                                     1\n",
       "DRIVER fAILING TO STOP AT RED SIGNAL BEFORE LEFT TURN, MAKING IMPROPER LEFT TURN AT RED SIGNAL)          1\n",
       "DRIVER FAILING TO STOP AT RED SIGNAL BEFORE LEFT TURN MAKING IMPROPER LEFT TURN AT RED SIGNAL            1\n",
       "DRIVER FAIL TO MAKE REQUIRED STOP AT FLASHING RED SIGNAL                                                 1\n",
       "DRIVER FAILING TO STOP AT RED SIGNAL BEFORE LEFT TURN, MAKING                                            1\n",
       "DRIVER FAILING TO STOP AT RED SIGNAL BEFORE LEFT TURN AT RED SIGNA                                       1\n",
       "DRIVER FAILING TO STOP AT RED SIGNAL BEFORE MAKING  LEFT TURN AT RED SIGNAL                              1\n",
       "DRIVER FAILING TO STOP AT RED SIGNAL                                                                     1\n",
       "DRIVER FAILURE TO STOP AT RED SIGNAL BEFORE LEFT TURN                                                    1\n",
       "DRIVER FAILING TO STOP AT REDSTOP  TURN LEFT AT RED SIGNAL)                                              1\n",
       "DRIVER FAILING TO STOP AT RED SIGNAL BEFORE U TURN                                                       1\n",
       "DRIVER  FAILING TO STOP AT RED SIGNAL BEFORE LEFT TURN, MAKING IMPROPER LEFT TURN AT RED SIGNAL          1\n",
       "DRIVER FAILING TO STOP AT RED SIGNAL  MAKING IMPROPER LEFT TURN AT RED SIGNAL                            1\n",
       "DRIVER FAILING TO STOP AT RED SIGNAL BEFORE LEFT TURN LEFT TURN AT RED SIGNAL                            1\n",
       "DRIVER FAILING TO STOP AT RED SIGNAL BEFORE LEFT TURN  AT RED SIGNAL)                                    1\n",
       "DRIVER FAILING TO STOP AT RED SIGNAL BEFORE LEFT TURN, MAKING IMPROPER LEFT TURN AT RED SIGNAL)          1\n",
       "DRIVER FAILING TO STOP AT RED SIGNAL BEFORE LEFT TURN AND MAKING IMPROPER LEFT TURN AT RED SIGNAL        1\n",
       "DRIVER FAIL TO MAKE REQUIRED STOP AT RED FLASHING SIGNAL,                                                1\n",
       "DRIVER FAILING TO STOP AT RED SIGNAL BEFORE LEFT TURN, MAKING IMPROPER LEFT TURN                         1\n",
       "DRIVER FAILING TO STOP AT RED SIGNAL BEFORE LEFT                                                         1\n",
       "DRIVER FAILING TO STOP AT RED SIGNAL BEFORE MAKING LEFT TURN AT RED SIGNAL                               1\n",
       "Name: count, dtype: int64"
      ]
     },
     "execution_count": 3,
     "metadata": {},
     "output_type": "execute_result"
    }
   ],
   "source": [
    "# The dataset being used contains all traffic violations\n",
    "# Keywords a crucial for determining the type of violation\n",
    "# I used the unique to find the feature values in description\n",
    "# My initial stratagy for finding these keywords is by using ctrl+f on notepad++ and searching for red and stop\n",
    "df_filtered = df[df['Description'].str.contains(' stop ', case=False) &\n",
    "                               df['Description'].str.contains(' red ', case=False) &\n",
    "                               df['Description'].str.contains(' fail', case=False)]\n",
    "df_filtered['Description'].value_counts()"
   ]
  },
  {
   "cell_type": "code",
   "execution_count": 4,
   "metadata": {},
   "outputs": [
    {
     "data": {
      "text/plain": [
       "['Location',\n",
       " 'Latitude',\n",
       " 'Longitude',\n",
       " 'Accident',\n",
       " 'Belts',\n",
       " 'Personal Injury',\n",
       " 'Property Damage',\n",
       " 'Fatal',\n",
       " 'Alcohol',\n",
       " 'Work Zone',\n",
       " 'State',\n",
       " 'VehicleType',\n",
       " 'Year',\n",
       " 'Make',\n",
       " 'Model',\n",
       " 'Color',\n",
       " 'Race',\n",
       " 'Gender',\n",
       " 'DL State',\n",
       " 'Geolocation']"
      ]
     },
     "execution_count": 4,
     "metadata": {},
     "output_type": "execute_result"
    }
   ],
   "source": [
    "# Removed columns that do not contribute to outcome or are incomplete\n",
    "# Some columns I removed here like longitude may make a nice visual for later\n",
    "columns_to_drop = [\n",
    "        'SeqID',\n",
    "        'Agency',\n",
    "        'SubAgency',\n",
    "        'Commercial License',\n",
    "        'HAZMAT',\n",
    "        'Commercial Vehicle',\n",
    "        'Search Conducted',\n",
    "        'Search Disposition',\n",
    "        'Search Outcome',\n",
    "        'Search Type',\n",
    "        'Article',\n",
    "        'Contributed To Accident',\n",
    "        'Driver City',\n",
    "        'Driver State',\n",
    "        'Arrest Type',\n",
    "        'Violation Type',\n",
    "        'SeqID',\n",
    "        'Search Reason',\n",
    "        'Search Reason For Stop',\n",
    "        'Charge',\n",
    "        'Search Arrest Reason',\n",
    "        'Date Of Stop',\n",
    "        'Time Of Stop',\n",
    "    'Description']\n",
    "\n",
    "\n",
    "# Drop the specified columns\n",
    "df_filtered = df.drop(columns=columns_to_drop, errors='ignore')\n",
    "list(df_filtered)"
   ]
  },
  {
   "cell_type": "code",
   "execution_count": 8,
   "metadata": {
    "scrolled": true
   },
   "outputs": [],
   "source": [
    "# Check the features here for colums that may be useful\n",
    "# Unique entries are a good way to get an idea of what the features mean \n",
    "#df_filtered['Date Of Stop'].value_counts()"
   ]
  },
  {
   "cell_type": "code",
   "execution_count": 9,
   "metadata": {},
   "outputs": [
    {
     "name": "stdout",
     "output_type": "stream",
     "text": [
      "<class 'pandas.core.frame.DataFrame'>\n",
      "RangeIndex: 1879912 entries, 0 to 1879911\n",
      "Data columns (total 20 columns):\n",
      " #   Column           Dtype  \n",
      "---  ------           -----  \n",
      " 0   Location         object \n",
      " 1   Latitude         float64\n",
      " 2   Longitude        float64\n",
      " 3   Accident         object \n",
      " 4   Belts            object \n",
      " 5   Personal Injury  object \n",
      " 6   Property Damage  object \n",
      " 7   Fatal            object \n",
      " 8   Alcohol          object \n",
      " 9   Work Zone        object \n",
      " 10  State            object \n",
      " 11  VehicleType      object \n",
      " 12  Year             float64\n",
      " 13  Make             object \n",
      " 14  Model            object \n",
      " 15  Color            object \n",
      " 16  Race             object \n",
      " 17  Gender           object \n",
      " 18  DL State         object \n",
      " 19  Geolocation      object \n",
      "dtypes: float64(3), object(17)\n",
      "memory usage: 286.9+ MB\n"
     ]
    }
   ],
   "source": [
    "df_filtered.info()"
   ]
  },
  {
   "cell_type": "code",
   "execution_count": 10,
   "metadata": {},
   "outputs": [
    {
     "name": "stdout",
     "output_type": "stream",
     "text": [
      "<class 'pandas.core.frame.DataFrame'>\n",
      "Index: 1857187 entries, 0 to 1879911\n",
      "Data columns (total 20 columns):\n",
      " #   Column           Dtype  \n",
      "---  ------           -----  \n",
      " 0   Location         object \n",
      " 1   Latitude         float64\n",
      " 2   Longitude        float64\n",
      " 3   Accident         object \n",
      " 4   Belts            object \n",
      " 5   Personal Injury  object \n",
      " 6   Property Damage  object \n",
      " 7   Fatal            object \n",
      " 8   Alcohol          object \n",
      " 9   Work Zone        object \n",
      " 10  State            object \n",
      " 11  VehicleType      object \n",
      " 12  Year             float64\n",
      " 13  Make             object \n",
      " 14  Model            object \n",
      " 15  Color            object \n",
      " 16  Race             object \n",
      " 17  Gender           object \n",
      " 18  DL State         object \n",
      " 19  Geolocation      object \n",
      "dtypes: float64(3), object(17)\n",
      "memory usage: 297.6+ MB\n"
     ]
    }
   ],
   "source": [
    "df_filtered.dropna(inplace=True)\n",
    "df_filtered.info()"
   ]
  },
  {
   "cell_type": "code",
   "execution_count": 11,
   "metadata": {},
   "outputs": [
    {
     "data": {
      "text/plain": [
       "Race\n",
       "WHITE              632776\n",
       "BLACK              589878\n",
       "HISPANIC           411268\n",
       "OTHER              114611\n",
       "ASIAN              105306\n",
       "NATIVE AMERICAN      3348\n",
       "Name: count, dtype: int64"
      ]
     },
     "execution_count": 11,
     "metadata": {},
     "output_type": "execute_result"
    }
   ],
   "source": [
    "#Data contains more white race and black\n",
    "#Conclusion cannot be drawn as the area data is being collected from may have more\n",
    "#White and black individuals compared to other races\n",
    "#Which over represents a race\n",
    "df_filtered['Race'].value_counts()"
   ]
  },
  {
   "cell_type": "code",
   "execution_count": 12,
   "metadata": {
    "scrolled": true
   },
   "outputs": [
    {
     "data": {
      "text/plain": [
       "Gender\n",
       "M    1250305\n",
       "F     604051\n",
       "U       2831\n",
       "Name: count, dtype: int64"
      ]
     },
     "execution_count": 12,
     "metadata": {},
     "output_type": "execute_result"
    }
   ],
   "source": [
    "df_filtered['Gender'].value_counts()"
   ]
  },
  {
   "cell_type": "code",
   "execution_count": null,
   "metadata": {},
   "outputs": [],
   "source": []
  }
 ],
 "metadata": {
  "colab": {
   "authorship_tag": "ABX9TyMUxnPRrDJd9WoH5AFI5FkE",
   "include_colab_link": true,
   "provenance": []
  },
  "kernelspec": {
   "display_name": "Python 3 (ipykernel)",
   "language": "python",
   "name": "python3"
  },
  "language_info": {
   "codemirror_mode": {
    "name": "ipython",
    "version": 3
   },
   "file_extension": ".py",
   "mimetype": "text/x-python",
   "name": "python",
   "nbconvert_exporter": "python",
   "pygments_lexer": "ipython3",
   "version": "3.11.5"
  }
 },
 "nbformat": 4,
 "nbformat_minor": 1
}
