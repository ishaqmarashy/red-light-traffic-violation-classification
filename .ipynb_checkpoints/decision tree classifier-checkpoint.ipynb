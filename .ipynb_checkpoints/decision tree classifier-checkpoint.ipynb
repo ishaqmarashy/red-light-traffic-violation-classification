{
 "cells": [
  {
   "cell_type": "markdown",
   "metadata": {
    "colab_type": "text",
    "id": "view-in-github"
   },
   "source": [
    "<a href=\"https://colab.research.google.com/github/ishaqmarashy/red-light-traffic-violation-classification/blob/main/decision%20tree%20classifier.ipynb\" target=\"_parent\"><img src=\"https://colab.research.google.com/assets/colab-badge.svg\" alt=\"Open In Colab\"/></a>"
   ]
  },
  {
   "cell_type": "code",
   "execution_count": 117,
   "metadata": {
    "id": "ot8RsUkAR87V"
   },
   "outputs": [],
   "source": [
    "import pandas as pd\n",
    "\n",
    "csv_url = \"./data/Traffic_Violations.csv\"\n",
    "##csv_url = \"https://data.montgomerycountymd.gov/api/views/4mse-ku6q/rows.csv?accessType=DOWNLOAD\"\n",
    "# Load the CSV data into a Pandas DataFrame\n",
    "df = pd.read_csv(csv_url)"
   ]
  },
  {
   "cell_type": "code",
   "execution_count": 118,
   "metadata": {},
   "outputs": [
    {
     "data": {
      "text/plain": [
       "['SeqID',\n",
       " 'Date Of Stop',\n",
       " 'Time Of Stop',\n",
       " 'Agency',\n",
       " 'SubAgency',\n",
       " 'Description',\n",
       " 'Location',\n",
       " 'Latitude',\n",
       " 'Longitude',\n",
       " 'Accident',\n",
       " 'Belts',\n",
       " 'Personal Injury',\n",
       " 'Property Damage',\n",
       " 'Fatal',\n",
       " 'Commercial License',\n",
       " 'HAZMAT',\n",
       " 'Commercial Vehicle',\n",
       " 'Alcohol',\n",
       " 'Work Zone',\n",
       " 'Search Conducted',\n",
       " 'Search Disposition',\n",
       " 'Search Outcome',\n",
       " 'Search Reason',\n",
       " 'Search Reason For Stop',\n",
       " 'Search Type',\n",
       " 'Search Arrest Reason',\n",
       " 'State',\n",
       " 'VehicleType',\n",
       " 'Year',\n",
       " 'Make',\n",
       " 'Model',\n",
       " 'Color',\n",
       " 'Violation Type',\n",
       " 'Charge',\n",
       " 'Article',\n",
       " 'Contributed To Accident',\n",
       " 'Race',\n",
       " 'Gender',\n",
       " 'Driver City',\n",
       " 'Driver State',\n",
       " 'DL State',\n",
       " 'Arrest Type',\n",
       " 'Geolocation']"
      ]
     },
     "execution_count": 118,
     "metadata": {},
     "output_type": "execute_result"
    }
   ],
   "source": [
    "list(df)"
   ]
  },
  {
   "cell_type": "code",
   "execution_count": 119,
   "metadata": {},
   "outputs": [
    {
     "data": {
      "text/plain": [
       "array(['04/29/2023', '04/30/2023', '05/01/2023', ..., '05/11/2021',\n",
       "       '06/20/2021', '04/09/2023'], dtype=object)"
      ]
     },
     "execution_count": 119,
     "metadata": {},
     "output_type": "execute_result"
    }
   ],
   "source": [
    "# Check the features here for colums that may be useful\n",
    "# Unique entries are a good way to get an idea of what the features mean \n",
    "df_filtered['Date Of Stop'].unique()"
   ]
  },
  {
   "cell_type": "code",
   "execution_count": 120,
   "metadata": {},
   "outputs": [
    {
     "data": {
      "text/plain": [
       "['Date Of Stop',\n",
       " 'Time Of Stop',\n",
       " 'Description',\n",
       " 'Accident',\n",
       " 'Belts',\n",
       " 'Personal Injury',\n",
       " 'Property Damage',\n",
       " 'Alcohol',\n",
       " 'Work Zone',\n",
       " 'State',\n",
       " 'VehicleType',\n",
       " 'Year',\n",
       " 'Make',\n",
       " 'Model',\n",
       " 'Color',\n",
       " 'Violation Type',\n",
       " 'Race',\n",
       " 'Gender',\n",
       " 'DL State']"
      ]
     },
     "execution_count": 120,
     "metadata": {},
     "output_type": "execute_result"
    }
   ],
   "source": [
    "# Removed columns that do not contribute to outcome or are incomplete\n",
    "columns_to_drop = [\n",
    "        'SeqID',\n",
    "        'Agency',\n",
    "        'SubAgency',\n",
    "        'Location',\n",
    "        'Latitude',\n",
    "        'Longitude',\n",
    "        'Fatal',\n",
    "        'Commercial License',\n",
    "        'HAZMAT',\n",
    "        'Commercial Vehicle',\n",
    "        'Search Conducted',\n",
    "        'Search Disposition',\n",
    "        'Search Outcome',\n",
    "        'Search Type',\n",
    "        'Article',\n",
    "        'Contributed To Accident',\n",
    "        'Driver City',\n",
    "        'Driver State',\n",
    "        'Arrest Type',\n",
    "        'SeqID',\n",
    "        'Search Reason',\n",
    "        'Search Reason For Stop',\n",
    "        'Charge',\n",
    "        'Search Arrest Reason',\n",
    "        'Geolocation']\n",
    "# Drop the specified columns\n",
    "df_filtered = df.drop(columns=columns_to_drop, errors='ignore')\n",
    "# The dataset being used contains all traffic violations\n",
    "# Keywords a crucial for determining the type of violation\n",
    "# I used the unique to find the feature values in description\n",
    "# My initial stratagy for finding these keywords is by using ctrl+f on notepad++ and searching for red and stop\n",
    "df_filtered = df_filtered.dropna(subset=['Description'])\n",
    "df_filtered = df_filtered[df_filtered['Description'].str.contains(' stop ', case=False) &\n",
    "                               df_filtered['Description'].str.contains(' red ', case=False) &\n",
    "                               df_filtered['Description'].str.contains(' fail', case=False)]\n",
    "list(df_filtered)"
   ]
  },
  {
   "cell_type": "code",
   "execution_count": 121,
   "metadata": {},
   "outputs": [
    {
     "data": {
      "text/plain": [
       "55745"
      ]
     },
     "execution_count": 121,
     "metadata": {},
     "output_type": "execute_result"
    }
   ],
   "source": [
    "df_filtered['Description'].count()"
   ]
  },
  {
   "cell_type": "code",
   "execution_count": 122,
   "metadata": {},
   "outputs": [
    {
     "data": {
      "text/plain": [
       "Description\n",
       "DRIVER FAILURE TO STOP AT STEADY CIRCULAR RED SIGNAL                                                 21716\n",
       "DRIVER FAIL TO STOP AT FLASHING RED TRAFFIC SIGNAL STOP LINE                                         18277\n",
       "DRIVER FAIL TO STOP AT RED TRAFFIC SIGNAL BEFORE RIGHT TURN                                           8121\n",
       "DRIVER FAIL TO STOP AT STEADY RED ARROW SIGNAL                                                        4290\n",
       "DRIVER FAIL TO STOP AT STEADY CIRCULAR RED SIGNAL                                                     1981\n",
       "DRIVER FAIL TO STOP AT STEADY CIRCULAR RED SIGNAL OR AT STEADY RED ARROW SIGNAL                        585\n",
       "DRIVER FAILING TO STOP AT RED SIGNAL BEFORE LEFT TURN                                                  295\n",
       "DRIVER FAIL TO STOP AT RED TRAFFIC SIGNAL BEFORE ANY OTHER TURN                                        216\n",
       "DRIVER FAILING TO STOP AT RED SIGNAL BEFORE LEFT TURN, MAKING IMPROPER LEFT TURN AT RED SIGNAL         212\n",
       "DRIVER FAILING TO STOP AT RED SIGNAL BEFORE LEFT TURN AT RED SIGNAL                                     11\n",
       "DRIVER FAILING TO STOP AT RED SIGNAL BEFORE LEFT TURN,                                                   8\n",
       "DRIVER FAILING TO STOP AT RED SIGNAL BEFORE LEFT TURN.                                                   6\n",
       "DRIVER FAILING TO STOP AT RED SIGNAL BEFORE MAKING IMPROPER LEFT TURN AT RED SIGNAL                      3\n",
       "DRIVER FAILING TO STOP AT RED SIGNAL BEFORE MAKING IMPROPER LEFT TURN AT RED SIGNAL)                     2\n",
       "DRIVER FAILING TO STOP AT FLASHING RED SIGNAL BEFORE LEFT TURN                                           1\n",
       "DRIVER FAILING TO STOP AT RED SIGNAL BEFORE LEFT TURN AT RED SIGNAL)                                     1\n",
       "DRIVER fAILING TO STOP AT RED SIGNAL BEFORE LEFT TURN, MAKING IMPROPER LEFT TURN AT RED SIGNAL)          1\n",
       "DRIVER FAILING TO STOP AT RED SIGNAL BEFORE LEFT TURN MAKING IMPROPER LEFT TURN AT RED SIGNAL            1\n",
       "DRIVER FAIL TO MAKE REQUIRED STOP AT FLASHING RED SIGNAL                                                 1\n",
       "DRIVER FAILING TO STOP AT RED SIGNAL BEFORE LEFT TURN, MAKING                                            1\n",
       "DRIVER FAILING TO STOP AT RED SIGNAL BEFORE LEFT TURN AT RED SIGNA                                       1\n",
       "DRIVER FAILING TO STOP AT RED SIGNAL BEFORE MAKING  LEFT TURN AT RED SIGNAL                              1\n",
       "DRIVER FAILING TO STOP AT RED SIGNAL                                                                     1\n",
       "DRIVER FAILURE TO STOP AT RED SIGNAL BEFORE LEFT TURN                                                    1\n",
       "DRIVER FAILING TO STOP AT REDSTOP  TURN LEFT AT RED SIGNAL)                                              1\n",
       "DRIVER FAILING TO STOP AT RED SIGNAL BEFORE U TURN                                                       1\n",
       "DRIVER  FAILING TO STOP AT RED SIGNAL BEFORE LEFT TURN, MAKING IMPROPER LEFT TURN AT RED SIGNAL          1\n",
       "DRIVER FAILING TO STOP AT RED SIGNAL  MAKING IMPROPER LEFT TURN AT RED SIGNAL                            1\n",
       "DRIVER FAILING TO STOP AT RED SIGNAL BEFORE LEFT TURN LEFT TURN AT RED SIGNAL                            1\n",
       "DRIVER FAILING TO STOP AT RED SIGNAL BEFORE LEFT TURN  AT RED SIGNAL)                                    1\n",
       "DRIVER FAILING TO STOP AT RED SIGNAL BEFORE LEFT TURN, MAKING IMPROPER LEFT TURN AT RED SIGNAL)          1\n",
       "DRIVER FAILING TO STOP AT RED SIGNAL BEFORE LEFT TURN AND MAKING IMPROPER LEFT TURN AT RED SIGNAL        1\n",
       "DRIVER FAIL TO MAKE REQUIRED STOP AT RED FLASHING SIGNAL,                                                1\n",
       "DRIVER FAILING TO STOP AT RED SIGNAL BEFORE LEFT TURN, MAKING IMPROPER LEFT TURN                         1\n",
       "DRIVER FAILING TO STOP AT RED SIGNAL BEFORE LEFT                                                         1\n",
       "DRIVER FAILING TO STOP AT RED SIGNAL BEFORE MAKING LEFT TURN AT RED SIGNAL                               1\n",
       "Name: count, dtype: int64"
      ]
     },
     "execution_count": 122,
     "metadata": {},
     "output_type": "execute_result"
    }
   ],
   "source": [
    "df_filtered['Description'].value_counts()"
   ]
  }
 ],
 "metadata": {
  "colab": {
   "authorship_tag": "ABX9TyMUxnPRrDJd9WoH5AFI5FkE",
   "include_colab_link": true,
   "provenance": []
  },
  "kernelspec": {
   "display_name": "Python 3 (ipykernel)",
   "language": "python",
   "name": "python3"
  },
  "language_info": {
   "codemirror_mode": {
    "name": "ipython",
    "version": 3
   },
   "file_extension": ".py",
   "mimetype": "text/x-python",
   "name": "python",
   "nbconvert_exporter": "python",
   "pygments_lexer": "ipython3",
   "version": "3.11.5"
  }
 },
 "nbformat": 4,
 "nbformat_minor": 1
}
