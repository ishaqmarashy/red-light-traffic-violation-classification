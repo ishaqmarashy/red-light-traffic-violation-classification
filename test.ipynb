{
 "cells": [
  {
   "cell_type": "code",
   "execution_count": 1,
   "metadata": {},
   "outputs": [
    {
     "name": "stdout",
     "output_type": "stream",
     "text": [
      "col_0     Frequency\n",
      "Category           \n",
      "A                 4\n",
      "B                 3\n",
      "C                 3\n"
     ]
    }
   ],
   "source": [
    "import pandas as pd\n",
    "\n",
    "# Sample data\n",
    "data = {'Category': ['A', 'B', 'C', 'A', 'B', 'A', 'C', 'B', 'A', 'C'],\n",
    "        'Value': [10, 15, 5, 8, 12, 7, 6, 11, 9, 4]}\n",
    "\n",
    "# Creating a DataFrame\n",
    "df = pd.DataFrame(data)\n",
    "\n",
    "# Generating a frequency table\n",
    "frequency_table = pd.crosstab(index=df['Category'], columns='Frequency')\n",
    "\n",
    "# Displaying the frequency table\n",
    "print(frequency_table)"
   ]
  }
 ],
 "metadata": {
  "kernelspec": {
   "display_name": "Python 3",
   "language": "python",
   "name": "python3"
  },
  "language_info": {
   "codemirror_mode": {
    "name": "ipython",
    "version": 3
   },
   "file_extension": ".py",
   "mimetype": "text/x-python",
   "name": "python",
   "nbconvert_exporter": "python",
   "pygments_lexer": "ipython3",
   "version": "3.9.0"
  }
 },
 "nbformat": 4,
 "nbformat_minor": 2
}
