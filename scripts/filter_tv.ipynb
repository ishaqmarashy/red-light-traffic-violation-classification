{
 "cells": [
  {
   "cell_type": "markdown",
   "metadata": {
    "colab_type": "text",
    "id": "view-in-github"
   },
   "source": [
    "<a href=\"https://colab.research.google.com/github/ishaqmarashy/red-light-traffic-violation-classification/blob/main/decision%20tree%20classifier.ipynb\" target=\"_parent\"><img src=\"https://colab.research.google.com/assets/colab-badge.svg\" alt=\"Open In Colab\"/></a>"
   ]
  },
  {
   "cell_type": "code",
   "execution_count": 257,
   "metadata": {
    "id": "ot8RsUkAR87V"
   },
   "outputs": [],
   "source": [
    "import pandas as pd\n",
    "import numpy as np\n",
    "import os\n",
    "\n",
    "csv_filename = \"../data/Traffic_Violations/Traffic_Violations.csv\"\n",
    "df = pd.read_csv(csv_filename)"
   ]
  },
  {
   "cell_type": "code",
   "execution_count": 258,
   "metadata": {},
   "outputs": [
    {
     "data": {
      "text/plain": [
       "Fatal\n",
       "No     1879414\n",
       "Yes        498\n",
       "Name: count, dtype: int64"
      ]
     },
     "execution_count": 258,
     "metadata": {},
     "output_type": "execute_result"
    }
   ],
   "source": [
    "df['Fatal'].value_counts()"
   ]
  },
  {
   "cell_type": "code",
   "execution_count": 259,
   "metadata": {},
   "outputs": [],
   "source": [
    "df.dropna(subset=['Description'], inplace=True)"
   ]
  },
  {
   "cell_type": "code",
   "execution_count": 260,
   "metadata": {},
   "outputs": [
    {
     "data": {
      "text/plain": [
       "Description\n",
       "DRIVER FAILURE TO OBEY PROPERLY PLACED TRAFFIC CONTROL DEVICE INSTRUCTIONS                     156937\n",
       "FAILURE TO DISPLAY REGISTRATION CARD UPON DEMAND BY POLICE OFFICER                              84442\n",
       "DRIVING VEHICLE ON HIGHWAY WITH SUSPENDED REGISTRATION                                          55131\n",
       "FAILURE OF INDIVIDUAL DRIVING ON HIGHWAY TO DISPLAY LICENSE TO UNIFORMED POLICE ON DEMAND       49804\n",
       "DISPLAYING EXPIRED REGISTRATION PLATE ISSUED BY ANY STATE                                       47429\n",
       "                                                                                                ...  \n",
       "DRIVING VEH W/ TV-TYPE RECEIVING EQUIPTHAT IS ON AND VISIBLE TO THE DRIVER)ON HWY                   1\n",
       "DRIVING VEHICLE IN EXCESS OF REASONABLE AND PRUDENT SPEED ON HIGHWAY 66/40 ZONE                     1\n",
       "PARKING VEH. LEFT WHEELS TO CURB                                                                    1\n",
       "DRIVE, ATTEMPT TO DRIVE VEH. WHILE IMPAIRED BY DRUG OR DRUG AND ALCOHOL WHILE TRANSP. MINOR         1\n",
       "OPERATE MOTOR VEH ON HWY WITHOUT REQUIRED STOP LAMP                                                 1\n",
       "Name: count, Length: 16361, dtype: int64"
      ]
     },
     "execution_count": 260,
     "metadata": {},
     "output_type": "execute_result"
    }
   ],
   "source": [
    "df['Description'].value_counts()"
   ]
  },
  {
   "cell_type": "code",
   "execution_count": 261,
   "metadata": {},
   "outputs": [
    {
     "data": {
      "text/plain": [
       "Personal Injury\n",
       "No     1856971\n",
       "Yes      22931\n",
       "Name: count, dtype: int64"
      ]
     },
     "execution_count": 261,
     "metadata": {},
     "output_type": "execute_result"
    }
   ],
   "source": [
    "df['Personal Injury'].value_counts()"
   ]
  },
  {
   "cell_type": "code",
   "execution_count": 262,
   "metadata": {},
   "outputs": [
    {
     "data": {
      "text/plain": [
       "Property Damage\n",
       "No     1839806\n",
       "Yes      40096\n",
       "Name: count, dtype: int64"
      ]
     },
     "execution_count": 262,
     "metadata": {},
     "output_type": "execute_result"
    }
   ],
   "source": [
    "df['Property Damage'].value_counts()"
   ]
  },
  {
   "cell_type": "code",
   "execution_count": 263,
   "metadata": {},
   "outputs": [
    {
     "data": {
      "text/plain": [
       "Alcohol\n",
       "No     1877373\n",
       "Yes       2529\n",
       "Name: count, dtype: int64"
      ]
     },
     "execution_count": 263,
     "metadata": {},
     "output_type": "execute_result"
    }
   ],
   "source": [
    "df['Alcohol'].value_counts()"
   ]
  },
  {
   "cell_type": "code",
   "execution_count": 264,
   "metadata": {},
   "outputs": [
    {
     "data": {
      "text/plain": [
       "Accident\n",
       "No     1828694\n",
       "Yes      51208\n",
       "Name: count, dtype: int64"
      ]
     },
     "execution_count": 264,
     "metadata": {},
     "output_type": "execute_result"
    }
   ],
   "source": [
    "df['Accident'].value_counts()"
   ]
  },
  {
   "cell_type": "code",
   "execution_count": 265,
   "metadata": {},
   "outputs": [
    {
     "data": {
      "text/plain": [
       "Fatal\n",
       "No     1879404\n",
       "Yes        498\n",
       "Name: count, dtype: int64"
      ]
     },
     "execution_count": 265,
     "metadata": {},
     "output_type": "execute_result"
    }
   ],
   "source": [
    "df['Fatal'].value_counts()"
   ]
  },
  {
   "cell_type": "code",
   "execution_count": 266,
   "metadata": {},
   "outputs": [
    {
     "data": {
      "text/plain": [
       "Description\n",
       "DRIVER FAILURE TO OBEY PROPERLY PLACED TRAFFIC CONTROL DEVICE INSTRUCTIONS                     156937\n",
       "FAILURE TO DISPLAY REGISTRATION CARD UPON DEMAND BY POLICE OFFICER                              84442\n",
       "DRIVING VEHICLE ON HIGHWAY WITH SUSPENDED REGISTRATION                                          55131\n",
       "FAILURE OF INDIVIDUAL DRIVING ON HIGHWAY TO DISPLAY LICENSE TO UNIFORMED POLICE ON DEMAND       49804\n",
       "DISPLAYING EXPIRED REGISTRATION PLATE ISSUED BY ANY STATE                                       47429\n",
       "                                                                                                ...  \n",
       "DRIVING VEH W/ TV-TYPE RECEIVING EQUIPTHAT IS ON AND VISIBLE TO THE DRIVER)ON HWY                   1\n",
       "DRIVING VEHICLE IN EXCESS OF REASONABLE AND PRUDENT SPEED ON HIGHWAY 66/40 ZONE                     1\n",
       "PARKING VEH. LEFT WHEELS TO CURB                                                                    1\n",
       "DRIVE, ATTEMPT TO DRIVE VEH. WHILE IMPAIRED BY DRUG OR DRUG AND ALCOHOL WHILE TRANSP. MINOR         1\n",
       "OPERATE MOTOR VEH ON HWY WITHOUT REQUIRED STOP LAMP                                                 1\n",
       "Name: count, Length: 16361, dtype: int64"
      ]
     },
     "execution_count": 266,
     "metadata": {},
     "output_type": "execute_result"
    }
   ],
   "source": [
    "df['Description'].value_counts()"
   ]
  },
  {
   "cell_type": "code",
   "execution_count": 267,
   "metadata": {},
   "outputs": [],
   "source": [
    "Red_df = df[df['Description'].str.contains('red', case=False) & df['Description'].str.contains('stop', case=False)]"
   ]
  },
  {
   "cell_type": "code",
   "execution_count": 268,
   "metadata": {
    "scrolled": false
   },
   "outputs": [],
   "source": [
    "Red_Accident=Red_df[Red_df['Accident'].str.contains('Yes', case=False)]"
   ]
  },
  {
   "cell_type": "code",
   "execution_count": 269,
   "metadata": {},
   "outputs": [
    {
     "data": {
      "text/plain": [
       "Personal Injury\n",
       "No     1232\n",
       "Yes     554\n",
       "Name: count, dtype: int64"
      ]
     },
     "execution_count": 269,
     "metadata": {},
     "output_type": "execute_result"
    }
   ],
   "source": [
    "Red_Accident['Personal Injury'].value_counts()"
   ]
  },
  {
   "cell_type": "code",
   "execution_count": 270,
   "metadata": {},
   "outputs": [
    {
     "data": {
      "text/plain": [
       "Fatal\n",
       "No     1781\n",
       "Yes       5\n",
       "Name: count, dtype: int64"
      ]
     },
     "execution_count": 270,
     "metadata": {},
     "output_type": "execute_result"
    }
   ],
   "source": [
    "Red_Accident['Fatal'].value_counts()"
   ]
  },
  {
   "cell_type": "code",
   "execution_count": 271,
   "metadata": {},
   "outputs": [],
   "source": [
    "Red_Accident_2=Red_Accident"
   ]
  },
  {
   "cell_type": "code",
   "execution_count": 272,
   "metadata": {
    "scrolled": true
   },
   "outputs": [
    {
     "name": "stderr",
     "output_type": "stream",
     "text": [
      "C:\\Users\\ishaq\\AppData\\Local\\Temp\\ipykernel_6880\\2337042582.py:1: SettingWithCopyWarning: \n",
      "A value is trying to be set on a copy of a slice from a DataFrame.\n",
      "Try using .loc[row_indexer,col_indexer] = value instead\n",
      "\n",
      "See the caveats in the documentation: https://pandas.pydata.org/pandas-docs/stable/user_guide/indexing.html#returning-a-view-versus-a-copy\n",
      "  Red_Accident_2['DV']= ((Red_Accident_2['Fatal']=='Yes') | (Red_Accident_2['Personal Injury']=='Yes')).astype(int)\n"
     ]
    }
   ],
   "source": [
    "Red_Accident_2['DV']= ((Red_Accident_2['Fatal']=='Yes') | (Red_Accident_2['Personal Injury']=='Yes')).astype(int)"
   ]
  },
  {
   "cell_type": "code",
   "execution_count": 273,
   "metadata": {},
   "outputs": [
    {
     "data": {
      "text/plain": [
       "16         0\n",
       "398        1\n",
       "2798       0\n",
       "3006       1\n",
       "3366       0\n",
       "          ..\n",
       "1853409    0\n",
       "1854806    0\n",
       "1859831    0\n",
       "1861398    0\n",
       "1867942    0\n",
       "Name: DV, Length: 1786, dtype: int32"
      ]
     },
     "execution_count": 273,
     "metadata": {},
     "output_type": "execute_result"
    }
   ],
   "source": [
    "Red_Accident_2['DV']"
   ]
  },
  {
   "cell_type": "code",
   "execution_count": 274,
   "metadata": {},
   "outputs": [
    {
     "data": {
      "text/plain": [
       "DV\n",
       "0    1227\n",
       "1     559\n",
       "Name: count, dtype: int64"
      ]
     },
     "execution_count": 274,
     "metadata": {},
     "output_type": "execute_result"
    }
   ],
   "source": [
    "Red_Accident_2['DV'].value_counts()"
   ]
  },
  {
   "cell_type": "code",
   "execution_count": 275,
   "metadata": {},
   "outputs": [
    {
     "name": "stderr",
     "output_type": "stream",
     "text": [
      "C:\\Users\\ishaq\\AppData\\Local\\Temp\\ipykernel_6880\\4294727762.py:1: SettingWithCopyWarning: \n",
      "A value is trying to be set on a copy of a slice from a DataFrame.\n",
      "Try using .loc[row_indexer,col_indexer] = value instead\n",
      "\n",
      "See the caveats in the documentation: https://pandas.pydata.org/pandas-docs/stable/user_guide/indexing.html#returning-a-view-versus-a-copy\n",
      "  Red_Accident_2['DATE'] = Red_Accident_2['Date Of Stop'] +\" \"+ Red_Accident_2['Time Of Stop']\n",
      "C:\\Users\\ishaq\\AppData\\Local\\Temp\\ipykernel_6880\\4294727762.py:2: UserWarning: Parsing dates in %m/%d/%Y %H:%M:%S format when dayfirst=True was specified. Pass `dayfirst=False` or specify a format to silence this warning.\n",
      "  Red_Accident_2['DATE'] =pd.to_datetime(Red_Accident_2['DATE'], dayfirst=True)\n",
      "C:\\Users\\ishaq\\AppData\\Local\\Temp\\ipykernel_6880\\4294727762.py:2: SettingWithCopyWarning: \n",
      "A value is trying to be set on a copy of a slice from a DataFrame.\n",
      "Try using .loc[row_indexer,col_indexer] = value instead\n",
      "\n",
      "See the caveats in the documentation: https://pandas.pydata.org/pandas-docs/stable/user_guide/indexing.html#returning-a-view-versus-a-copy\n",
      "  Red_Accident_2['DATE'] =pd.to_datetime(Red_Accident_2['DATE'], dayfirst=True)\n",
      "C:\\Users\\ishaq\\AppData\\Local\\Temp\\ipykernel_6880\\4294727762.py:3: SettingWithCopyWarning: \n",
      "A value is trying to be set on a copy of a slice from a DataFrame.\n",
      "Try using .loc[row_indexer,col_indexer] = value instead\n",
      "\n",
      "See the caveats in the documentation: https://pandas.pydata.org/pandas-docs/stable/user_guide/indexing.html#returning-a-view-versus-a-copy\n",
      "  Red_Accident_2['DATE'] = Red_Accident_2['DATE'].dt.round('H')\n"
     ]
    }
   ],
   "source": [
    "Red_Accident_2['DATE'] = Red_Accident_2['Date Of Stop'] +\" \"+ Red_Accident_2['Time Of Stop']\n",
    "Red_Accident_2['DATE'] =pd.to_datetime(Red_Accident_2['DATE'], dayfirst=True)\n",
    "Red_Accident_2['DATE'] = Red_Accident_2['DATE'].dt.round('H')\n",
    "Red_Accident_2 = Red_Accident_2.drop(['Date Of Stop', 'Time Of Stop'], axis=1)"
   ]
  },
  {
   "cell_type": "code",
   "execution_count": 276,
   "metadata": {},
   "outputs": [
    {
     "name": "stdout",
     "output_type": "stream",
     "text": [
      "Soonest Date: 2012-01-05 12:00:00\n",
      "Oldest Date: 2023-09-27 22:00:00\n"
     ]
    }
   ],
   "source": [
    "soonest_date = Red_Accident_2['DATE'].min()\n",
    "oldest_date = Red_Accident_2['DATE'].max()\n",
    "\n",
    "print(\"Soonest Date:\", soonest_date)\n",
    "print(\"Oldest Date:\", oldest_date)"
   ]
  },
  {
   "cell_type": "code",
   "execution_count": 277,
   "metadata": {},
   "outputs": [
    {
     "data": {
      "text/plain": [
       "DV\n",
       "0    1227\n",
       "1     559\n",
       "Name: count, dtype: int64"
      ]
     },
     "execution_count": 277,
     "metadata": {},
     "output_type": "execute_result"
    }
   ],
   "source": [
    "Red_Accident_2['DV'].value_counts()"
   ]
  },
  {
   "cell_type": "code",
   "execution_count": 278,
   "metadata": {},
   "outputs": [
    {
     "data": {
      "text/html": [
       "<div>\n",
       "<style scoped>\n",
       "    .dataframe tbody tr th:only-of-type {\n",
       "        vertical-align: middle;\n",
       "    }\n",
       "\n",
       "    .dataframe tbody tr th {\n",
       "        vertical-align: top;\n",
       "    }\n",
       "\n",
       "    .dataframe thead th {\n",
       "        text-align: right;\n",
       "    }\n",
       "</style>\n",
       "<table border=\"1\" class=\"dataframe\">\n",
       "  <thead>\n",
       "    <tr style=\"text-align: right;\">\n",
       "      <th></th>\n",
       "      <th>SeqID</th>\n",
       "      <th>Agency</th>\n",
       "      <th>SubAgency</th>\n",
       "      <th>Description</th>\n",
       "      <th>Location</th>\n",
       "      <th>Latitude</th>\n",
       "      <th>Longitude</th>\n",
       "      <th>Accident</th>\n",
       "      <th>Belts</th>\n",
       "      <th>Personal Injury</th>\n",
       "      <th>...</th>\n",
       "      <th>Contributed To Accident</th>\n",
       "      <th>Race</th>\n",
       "      <th>Gender</th>\n",
       "      <th>Driver City</th>\n",
       "      <th>Driver State</th>\n",
       "      <th>DL State</th>\n",
       "      <th>Arrest Type</th>\n",
       "      <th>Geolocation</th>\n",
       "      <th>DV</th>\n",
       "      <th>DATE</th>\n",
       "    </tr>\n",
       "  </thead>\n",
       "  <tbody>\n",
       "    <tr>\n",
       "      <th>16</th>\n",
       "      <td>d0c53876-4da4-4922-ac4f-d5a7e91c7bcc</td>\n",
       "      <td>MCP</td>\n",
       "      <td>3rd District, Silver Spring</td>\n",
       "      <td>DRIVER FAIL TO STOP AT FLASHING RED TRAFFIC SI...</td>\n",
       "      <td>FENTON ST @ COLESVILLE RD</td>\n",
       "      <td>38.997645</td>\n",
       "      <td>-77.027105</td>\n",
       "      <td>Yes</td>\n",
       "      <td>No</td>\n",
       "      <td>No</td>\n",
       "      <td>...</td>\n",
       "      <td>True</td>\n",
       "      <td>BLACK</td>\n",
       "      <td>F</td>\n",
       "      <td>COLUMBIA</td>\n",
       "      <td>MD</td>\n",
       "      <td>MD</td>\n",
       "      <td>A - Marked Patrol</td>\n",
       "      <td>(38.997645, -77.027105)</td>\n",
       "      <td>0</td>\n",
       "      <td>2023-04-30 03:00:00</td>\n",
       "    </tr>\n",
       "    <tr>\n",
       "      <th>398</th>\n",
       "      <td>e5619336-680c-4533-8055-ba7d79eec1e1</td>\n",
       "      <td>MCP</td>\n",
       "      <td>2nd District, Bethesda</td>\n",
       "      <td>DRIVER FAILURE TO STOP AT STEADY CIRCULAR RED ...</td>\n",
       "      <td>ROCKVILLE PIKE / POOKS HILL RD</td>\n",
       "      <td>38.997566</td>\n",
       "      <td>-77.109724</td>\n",
       "      <td>Yes</td>\n",
       "      <td>No</td>\n",
       "      <td>Yes</td>\n",
       "      <td>...</td>\n",
       "      <td>True</td>\n",
       "      <td>HISPANIC</td>\n",
       "      <td>M</td>\n",
       "      <td>LANHAM</td>\n",
       "      <td>MD</td>\n",
       "      <td>MD</td>\n",
       "      <td>A - Marked Patrol</td>\n",
       "      <td>(38.9975661666667, -77.1097243333333)</td>\n",
       "      <td>1</td>\n",
       "      <td>2023-05-02 12:00:00</td>\n",
       "    </tr>\n",
       "    <tr>\n",
       "      <th>2798</th>\n",
       "      <td>1ded33ce-acea-41c9-ae81-161af71d56e2</td>\n",
       "      <td>MCP</td>\n",
       "      <td>Headquarters and Special Operations</td>\n",
       "      <td>DRIVER FAILURE TO STOP AT STEADY CIRCULAR RED ...</td>\n",
       "      <td>NB RT355 @ LITTLE SENECA PKWY</td>\n",
       "      <td>39.223205</td>\n",
       "      <td>-77.260313</td>\n",
       "      <td>Yes</td>\n",
       "      <td>No</td>\n",
       "      <td>No</td>\n",
       "      <td>...</td>\n",
       "      <td>True</td>\n",
       "      <td>BLACK</td>\n",
       "      <td>F</td>\n",
       "      <td>CLARKSBURG</td>\n",
       "      <td>MD</td>\n",
       "      <td>MD</td>\n",
       "      <td>A - Marked Patrol</td>\n",
       "      <td>(39.223205, -77.2603133333333)</td>\n",
       "      <td>0</td>\n",
       "      <td>2023-05-16 10:00:00</td>\n",
       "    </tr>\n",
       "    <tr>\n",
       "      <th>3006</th>\n",
       "      <td>b63e7cdb-fd9c-4c13-8728-8ae166a5260a</td>\n",
       "      <td>MCP</td>\n",
       "      <td>3rd District, Silver Spring</td>\n",
       "      <td>DRIVER FAILURE TO STOP AT STEADY CIRCULAR RED ...</td>\n",
       "      <td>COLUMBIA PIKE / TECH RD</td>\n",
       "      <td>39.057987</td>\n",
       "      <td>-76.968677</td>\n",
       "      <td>Yes</td>\n",
       "      <td>No</td>\n",
       "      <td>Yes</td>\n",
       "      <td>...</td>\n",
       "      <td>True</td>\n",
       "      <td>WHITE</td>\n",
       "      <td>F</td>\n",
       "      <td>SILVER SPRING</td>\n",
       "      <td>MD</td>\n",
       "      <td>MD</td>\n",
       "      <td>A - Marked Patrol</td>\n",
       "      <td>(39.0579866666667, -76.9686766666667)</td>\n",
       "      <td>1</td>\n",
       "      <td>2023-05-17 14:00:00</td>\n",
       "    </tr>\n",
       "    <tr>\n",
       "      <th>3366</th>\n",
       "      <td>973068ac-ab88-460a-8d82-9d2d80041890</td>\n",
       "      <td>MCP</td>\n",
       "      <td>3rd District, Silver Spring</td>\n",
       "      <td>DRIVER FAIL TO STOP AT STEADY CIRCULAR RED SIGNAL</td>\n",
       "      <td>SPRING ST @ COLEVILLE RD</td>\n",
       "      <td>38.999282</td>\n",
       "      <td>-77.026098</td>\n",
       "      <td>Yes</td>\n",
       "      <td>No</td>\n",
       "      <td>No</td>\n",
       "      <td>...</td>\n",
       "      <td>True</td>\n",
       "      <td>HISPANIC</td>\n",
       "      <td>F</td>\n",
       "      <td>SILVER SPRING</td>\n",
       "      <td>MD</td>\n",
       "      <td>MD</td>\n",
       "      <td>A - Marked Patrol</td>\n",
       "      <td>(38.9992823333333, -77.0260978333333)</td>\n",
       "      <td>0</td>\n",
       "      <td>2023-05-20 10:00:00</td>\n",
       "    </tr>\n",
       "    <tr>\n",
       "      <th>...</th>\n",
       "      <td>...</td>\n",
       "      <td>...</td>\n",
       "      <td>...</td>\n",
       "      <td>...</td>\n",
       "      <td>...</td>\n",
       "      <td>...</td>\n",
       "      <td>...</td>\n",
       "      <td>...</td>\n",
       "      <td>...</td>\n",
       "      <td>...</td>\n",
       "      <td>...</td>\n",
       "      <td>...</td>\n",
       "      <td>...</td>\n",
       "      <td>...</td>\n",
       "      <td>...</td>\n",
       "      <td>...</td>\n",
       "      <td>...</td>\n",
       "      <td>...</td>\n",
       "      <td>...</td>\n",
       "      <td>...</td>\n",
       "      <td>...</td>\n",
       "    </tr>\n",
       "    <tr>\n",
       "      <th>1853409</th>\n",
       "      <td>cdd9b30e-9c82-471b-aec5-77cfdd182d37</td>\n",
       "      <td>MCP</td>\n",
       "      <td>4th District, Wheaton</td>\n",
       "      <td>DRIVER FAIL TO STOP AT FLASHING RED TRAFFIC SI...</td>\n",
       "      <td>BOWIE MILL ROAD @ CASHELL ROAD</td>\n",
       "      <td>0.000000</td>\n",
       "      <td>0.000000</td>\n",
       "      <td>Yes</td>\n",
       "      <td>No</td>\n",
       "      <td>No</td>\n",
       "      <td>...</td>\n",
       "      <td>True</td>\n",
       "      <td>ASIAN</td>\n",
       "      <td>M</td>\n",
       "      <td>OLNEY</td>\n",
       "      <td>MD</td>\n",
       "      <td>MD</td>\n",
       "      <td>A - Marked Patrol</td>\n",
       "      <td>(0.0, 0.0)</td>\n",
       "      <td>0</td>\n",
       "      <td>2013-09-17 02:00:00</td>\n",
       "    </tr>\n",
       "    <tr>\n",
       "      <th>1854806</th>\n",
       "      <td>116fd1e4-0a9c-4cc1-b147-866974780e6b</td>\n",
       "      <td>MCP</td>\n",
       "      <td>4th District, Wheaton</td>\n",
       "      <td>MOTOR VEH W/O REQUIRED STOP LAMPS EQUIPMENT</td>\n",
       "      <td>CONNECTICUT AVE @ ASPEN HILL ROAD</td>\n",
       "      <td>0.000000</td>\n",
       "      <td>0.000000</td>\n",
       "      <td>Yes</td>\n",
       "      <td>No</td>\n",
       "      <td>No</td>\n",
       "      <td>...</td>\n",
       "      <td>True</td>\n",
       "      <td>WHITE</td>\n",
       "      <td>M</td>\n",
       "      <td>POTOMAC</td>\n",
       "      <td>MD</td>\n",
       "      <td>MD</td>\n",
       "      <td>A - Marked Patrol</td>\n",
       "      <td>(0.0, 0.0)</td>\n",
       "      <td>0</td>\n",
       "      <td>2013-09-25 02:00:00</td>\n",
       "    </tr>\n",
       "    <tr>\n",
       "      <th>1859831</th>\n",
       "      <td>569ca511-ce44-4b97-aad3-783c36172735</td>\n",
       "      <td>MCP</td>\n",
       "      <td>4th District, Wheaton</td>\n",
       "      <td>DRIVER FAIL TO STOP AT FLASHING RED TRAFFIC SI...</td>\n",
       "      <td>CASHELL ROAD @ MORNINGWOOD DRIVE</td>\n",
       "      <td>0.000000</td>\n",
       "      <td>0.000000</td>\n",
       "      <td>Yes</td>\n",
       "      <td>No</td>\n",
       "      <td>No</td>\n",
       "      <td>...</td>\n",
       "      <td>True</td>\n",
       "      <td>WHITE</td>\n",
       "      <td>M</td>\n",
       "      <td>OLNEY</td>\n",
       "      <td>MD</td>\n",
       "      <td>MD</td>\n",
       "      <td>A - Marked Patrol</td>\n",
       "      <td>(0.0, 0.0)</td>\n",
       "      <td>0</td>\n",
       "      <td>2013-09-19 02:00:00</td>\n",
       "    </tr>\n",
       "    <tr>\n",
       "      <th>1861398</th>\n",
       "      <td>d81c6100-f5c4-4451-950a-c7482cad81e5</td>\n",
       "      <td>MCP</td>\n",
       "      <td>4th District, Wheaton</td>\n",
       "      <td>MOTOR VEH. W/O REQUIRED STOP LAMPS EQUIPMENT</td>\n",
       "      <td>GEORGIA AVE @ HINES ROAD</td>\n",
       "      <td>39.144320</td>\n",
       "      <td>-77.067415</td>\n",
       "      <td>Yes</td>\n",
       "      <td>No</td>\n",
       "      <td>No</td>\n",
       "      <td>...</td>\n",
       "      <td>True</td>\n",
       "      <td>WHITE</td>\n",
       "      <td>M</td>\n",
       "      <td>GERMANTOWN</td>\n",
       "      <td>MD</td>\n",
       "      <td>MD</td>\n",
       "      <td>A - Marked Patrol</td>\n",
       "      <td>(39.14432, -77.067415)</td>\n",
       "      <td>0</td>\n",
       "      <td>2014-12-17 23:00:00</td>\n",
       "    </tr>\n",
       "    <tr>\n",
       "      <th>1867942</th>\n",
       "      <td>680191e6-e2b7-4415-9bf2-769c88db080b</td>\n",
       "      <td>MCP</td>\n",
       "      <td>4th District, Wheaton</td>\n",
       "      <td>MOTOR VEHW/O REQUIRED STOP LAMPS EQUIPMENT</td>\n",
       "      <td>OLNEY-SANDY SPRING ROAD @ OLD BALTIMORE</td>\n",
       "      <td>0.000000</td>\n",
       "      <td>0.000000</td>\n",
       "      <td>Yes</td>\n",
       "      <td>No</td>\n",
       "      <td>No</td>\n",
       "      <td>...</td>\n",
       "      <td>True</td>\n",
       "      <td>BLACK</td>\n",
       "      <td>M</td>\n",
       "      <td>COLUMBIA</td>\n",
       "      <td>MD</td>\n",
       "      <td>MD</td>\n",
       "      <td>A - Marked Patrol</td>\n",
       "      <td>(0.0, 0.0)</td>\n",
       "      <td>0</td>\n",
       "      <td>2013-09-09 23:00:00</td>\n",
       "    </tr>\n",
       "  </tbody>\n",
       "</table>\n",
       "<p>1786 rows × 43 columns</p>\n",
       "</div>"
      ],
      "text/plain": [
       "                                        SeqID Agency  \\\n",
       "16       d0c53876-4da4-4922-ac4f-d5a7e91c7bcc    MCP   \n",
       "398      e5619336-680c-4533-8055-ba7d79eec1e1    MCP   \n",
       "2798     1ded33ce-acea-41c9-ae81-161af71d56e2    MCP   \n",
       "3006     b63e7cdb-fd9c-4c13-8728-8ae166a5260a    MCP   \n",
       "3366     973068ac-ab88-460a-8d82-9d2d80041890    MCP   \n",
       "...                                       ...    ...   \n",
       "1853409  cdd9b30e-9c82-471b-aec5-77cfdd182d37    MCP   \n",
       "1854806  116fd1e4-0a9c-4cc1-b147-866974780e6b    MCP   \n",
       "1859831  569ca511-ce44-4b97-aad3-783c36172735    MCP   \n",
       "1861398  d81c6100-f5c4-4451-950a-c7482cad81e5    MCP   \n",
       "1867942  680191e6-e2b7-4415-9bf2-769c88db080b    MCP   \n",
       "\n",
       "                                   SubAgency  \\\n",
       "16               3rd District, Silver Spring   \n",
       "398                   2nd District, Bethesda   \n",
       "2798     Headquarters and Special Operations   \n",
       "3006             3rd District, Silver Spring   \n",
       "3366             3rd District, Silver Spring   \n",
       "...                                      ...   \n",
       "1853409                4th District, Wheaton   \n",
       "1854806                4th District, Wheaton   \n",
       "1859831                4th District, Wheaton   \n",
       "1861398                4th District, Wheaton   \n",
       "1867942                4th District, Wheaton   \n",
       "\n",
       "                                               Description  \\\n",
       "16       DRIVER FAIL TO STOP AT FLASHING RED TRAFFIC SI...   \n",
       "398      DRIVER FAILURE TO STOP AT STEADY CIRCULAR RED ...   \n",
       "2798     DRIVER FAILURE TO STOP AT STEADY CIRCULAR RED ...   \n",
       "3006     DRIVER FAILURE TO STOP AT STEADY CIRCULAR RED ...   \n",
       "3366     DRIVER FAIL TO STOP AT STEADY CIRCULAR RED SIGNAL   \n",
       "...                                                    ...   \n",
       "1853409  DRIVER FAIL TO STOP AT FLASHING RED TRAFFIC SI...   \n",
       "1854806        MOTOR VEH W/O REQUIRED STOP LAMPS EQUIPMENT   \n",
       "1859831  DRIVER FAIL TO STOP AT FLASHING RED TRAFFIC SI...   \n",
       "1861398       MOTOR VEH. W/O REQUIRED STOP LAMPS EQUIPMENT   \n",
       "1867942         MOTOR VEHW/O REQUIRED STOP LAMPS EQUIPMENT   \n",
       "\n",
       "                                        Location   Latitude  Longitude  \\\n",
       "16                     FENTON ST @ COLESVILLE RD  38.997645 -77.027105   \n",
       "398               ROCKVILLE PIKE / POOKS HILL RD  38.997566 -77.109724   \n",
       "2798               NB RT355 @ LITTLE SENECA PKWY  39.223205 -77.260313   \n",
       "3006                     COLUMBIA PIKE / TECH RD  39.057987 -76.968677   \n",
       "3366                    SPRING ST @ COLEVILLE RD  38.999282 -77.026098   \n",
       "...                                          ...        ...        ...   \n",
       "1853409           BOWIE MILL ROAD @ CASHELL ROAD   0.000000   0.000000   \n",
       "1854806        CONNECTICUT AVE @ ASPEN HILL ROAD   0.000000   0.000000   \n",
       "1859831         CASHELL ROAD @ MORNINGWOOD DRIVE   0.000000   0.000000   \n",
       "1861398                 GEORGIA AVE @ HINES ROAD  39.144320 -77.067415   \n",
       "1867942  OLNEY-SANDY SPRING ROAD @ OLD BALTIMORE   0.000000   0.000000   \n",
       "\n",
       "        Accident Belts Personal Injury  ... Contributed To Accident      Race  \\\n",
       "16           Yes    No              No  ...                    True     BLACK   \n",
       "398          Yes    No             Yes  ...                    True  HISPANIC   \n",
       "2798         Yes    No              No  ...                    True     BLACK   \n",
       "3006         Yes    No             Yes  ...                    True     WHITE   \n",
       "3366         Yes    No              No  ...                    True  HISPANIC   \n",
       "...          ...   ...             ...  ...                     ...       ...   \n",
       "1853409      Yes    No              No  ...                    True     ASIAN   \n",
       "1854806      Yes    No              No  ...                    True     WHITE   \n",
       "1859831      Yes    No              No  ...                    True     WHITE   \n",
       "1861398      Yes    No              No  ...                    True     WHITE   \n",
       "1867942      Yes    No              No  ...                    True     BLACK   \n",
       "\n",
       "        Gender    Driver City Driver State DL State        Arrest Type  \\\n",
       "16           F       COLUMBIA           MD       MD  A - Marked Patrol   \n",
       "398          M         LANHAM           MD       MD  A - Marked Patrol   \n",
       "2798         F     CLARKSBURG           MD       MD  A - Marked Patrol   \n",
       "3006         F  SILVER SPRING           MD       MD  A - Marked Patrol   \n",
       "3366         F  SILVER SPRING           MD       MD  A - Marked Patrol   \n",
       "...        ...            ...          ...      ...                ...   \n",
       "1853409      M          OLNEY           MD       MD  A - Marked Patrol   \n",
       "1854806      M        POTOMAC           MD       MD  A - Marked Patrol   \n",
       "1859831      M          OLNEY           MD       MD  A - Marked Patrol   \n",
       "1861398      M     GERMANTOWN           MD       MD  A - Marked Patrol   \n",
       "1867942      M       COLUMBIA           MD       MD  A - Marked Patrol   \n",
       "\n",
       "                                   Geolocation DV                DATE  \n",
       "16                     (38.997645, -77.027105)  0 2023-04-30 03:00:00  \n",
       "398      (38.9975661666667, -77.1097243333333)  1 2023-05-02 12:00:00  \n",
       "2798            (39.223205, -77.2603133333333)  0 2023-05-16 10:00:00  \n",
       "3006     (39.0579866666667, -76.9686766666667)  1 2023-05-17 14:00:00  \n",
       "3366     (38.9992823333333, -77.0260978333333)  0 2023-05-20 10:00:00  \n",
       "...                                        ... ..                 ...  \n",
       "1853409                             (0.0, 0.0)  0 2013-09-17 02:00:00  \n",
       "1854806                             (0.0, 0.0)  0 2013-09-25 02:00:00  \n",
       "1859831                             (0.0, 0.0)  0 2013-09-19 02:00:00  \n",
       "1861398                 (39.14432, -77.067415)  0 2014-12-17 23:00:00  \n",
       "1867942                             (0.0, 0.0)  0 2013-09-09 23:00:00  \n",
       "\n",
       "[1786 rows x 43 columns]"
      ]
     },
     "execution_count": 278,
     "metadata": {},
     "output_type": "execute_result"
    }
   ],
   "source": [
    "Red_Accident_2"
   ]
  },
  {
   "cell_type": "code",
   "execution_count": 279,
   "metadata": {},
   "outputs": [],
   "source": [
    "Red_Accident_2.to_csv('../data/Traffic_Violations/Traffic_violations_Reduced.csv', index=False)"
   ]
  }
 ],
 "metadata": {
  "colab": {
   "authorship_tag": "ABX9TyMUxnPRrDJd9WoH5AFI5FkE",
   "include_colab_link": true,
   "provenance": []
  },
  "kernelspec": {
   "display_name": "Python 3 (ipykernel)",
   "language": "python",
   "name": "python3"
  },
  "language_info": {
   "codemirror_mode": {
    "name": "ipython",
    "version": 3
   },
   "file_extension": ".py",
   "mimetype": "text/x-python",
   "name": "python",
   "nbconvert_exporter": "python",
   "pygments_lexer": "ipython3",
   "version": "3.9.0"
  }
 },
 "nbformat": 4,
 "nbformat_minor": 1
}
