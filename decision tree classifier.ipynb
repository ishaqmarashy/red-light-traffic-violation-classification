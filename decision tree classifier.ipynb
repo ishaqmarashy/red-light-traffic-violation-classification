{
 "cells": [
  {
   "cell_type": "markdown",
   "metadata": {
    "colab_type": "text",
    "id": "view-in-github"
   },
   "source": [
    "<a href=\"https://colab.research.google.com/github/ishaqmarashy/red-light-traffic-violation-classification/blob/main/decision%20tree%20classifier.ipynb\" target=\"_parent\"><img src=\"https://colab.research.google.com/assets/colab-badge.svg\" alt=\"Open In Colab\"/></a>"
   ]
  },
  {
   "cell_type": "code",
   "execution_count": 11,
   "metadata": {
    "id": "ot8RsUkAR87V"
   },
   "outputs": [],
   "source": [
    "import pandas as pd\n",
    "\n",
    "csv_url = \"./data/Traffic_Violations.csv\"\n",
    "##csv_url = \"https://data.montgomerycountymd.gov/api/views/4mse-ku6q/rows.csv?accessType=DOWNLOAD\"\n",
    "df = pd.read_csv(csv_url)"
   ]
  },
  {
   "cell_type": "code",
   "execution_count": 12,
   "metadata": {},
   "outputs": [
    {
     "data": {
      "text/plain": [
       "['SeqID',\n",
       " 'Date Of Stop',\n",
       " 'Time Of Stop',\n",
       " 'Agency',\n",
       " 'SubAgency',\n",
       " 'Description',\n",
       " 'Location',\n",
       " 'Latitude',\n",
       " 'Longitude',\n",
       " 'Accident',\n",
       " 'Belts',\n",
       " 'Personal Injury',\n",
       " 'Property Damage',\n",
       " 'Fatal',\n",
       " 'Commercial License',\n",
       " 'HAZMAT',\n",
       " 'Commercial Vehicle',\n",
       " 'Alcohol',\n",
       " 'Work Zone',\n",
       " 'Search Conducted',\n",
       " 'Search Disposition',\n",
       " 'Search Outcome',\n",
       " 'Search Reason',\n",
       " 'Search Reason For Stop',\n",
       " 'Search Type',\n",
       " 'Search Arrest Reason',\n",
       " 'State',\n",
       " 'VehicleType',\n",
       " 'Year',\n",
       " 'Make',\n",
       " 'Model',\n",
       " 'Color',\n",
       " 'Violation Type',\n",
       " 'Charge',\n",
       " 'Article',\n",
       " 'Contributed To Accident',\n",
       " 'Race',\n",
       " 'Gender',\n",
       " 'Driver City',\n",
       " 'Driver State',\n",
       " 'DL State',\n",
       " 'Arrest Type',\n",
       " 'Geolocation']"
      ]
     },
     "execution_count": 12,
     "metadata": {},
     "output_type": "execute_result"
    }
   ],
   "source": [
    "list(df)"
   ]
  },
  {
   "cell_type": "code",
   "execution_count": 13,
   "metadata": {},
   "outputs": [
    {
     "data": {
      "text/plain": [
       "Date Of Stop              0\n",
       "Time Of Stop              0\n",
       "Agency                    0\n",
       "SubAgency                 0\n",
       "Description              10\n",
       "Location                  4\n",
       "Latitude                  0\n",
       "Longitude                 0\n",
       "Accident                  0\n",
       "Belts                     0\n",
       "Personal Injury           0\n",
       "Property Damage           0\n",
       "Fatal                     0\n",
       "Commercial License        0\n",
       "Commercial Vehicle        0\n",
       "Alcohol                   0\n",
       "Work Zone                 0\n",
       "State                    59\n",
       "VehicleType               0\n",
       "Year                  10375\n",
       "Make                     68\n",
       "Model                   213\n",
       "Color                 21654\n",
       "Violation Type            0\n",
       "Race                      0\n",
       "Gender                    0\n",
       "Driver City             474\n",
       "Driver State             11\n",
       "DL State                929\n",
       "Geolocation               0\n",
       "dtype: int64"
      ]
     },
     "execution_count": 13,
     "metadata": {},
     "output_type": "execute_result"
    }
   ],
   "source": [
    "# Removed columns that do not contribute to outcome or are incomplete\n",
    "# Some columns I removed here like longitude may make a nice visual for later\n",
    "columns_to_drop = [\n",
    "        'SeqID',\n",
    "        'HAZMAT',\n",
    "        'Search Conducted',\n",
    "        'Search Disposition',\n",
    "        'Search Outcome',\n",
    "        'Search Type',\n",
    "        'Article',\n",
    "        'Contributed To Accident',\n",
    "        'Arrest Type',\n",
    "        'Search Reason',\n",
    "        'Search Reason For Stop',\n",
    "        'Charge',\n",
    "        'Search Arrest Reason']\n",
    "\n",
    "\n",
    "# Drop the specified columns\n",
    "df.drop(columns=columns_to_drop, errors='ignore', inplace=True)\n",
    "df.isna().sum()"
   ]
  },
  {
   "cell_type": "code",
   "execution_count": 14,
   "metadata": {},
   "outputs": [],
   "source": [
    "df.dropna(subset=['Description'], inplace=True)"
   ]
  },
  {
   "cell_type": "code",
   "execution_count": 15,
   "metadata": {},
   "outputs": [],
   "source": [
    "def replace_description_with_most_frequent_value(df, keywords, field):\n",
    "    filtered_rows=df\n",
    "    for keyword in keywords:\n",
    "        filtered_rows = filtered_rows[filtered_rows[field].str.contains(keyword, case=False)]\n",
    "\n",
    "    if not filtered_rows.empty:\n",
    "        most_frequent_value = filtered_rows[field].mode().iloc[0]\n",
    "        df.loc[filtered_rows.index, field] = most_frequent_value"
   ]
  },
  {
   "cell_type": "code",
   "execution_count": 16,
   "metadata": {},
   "outputs": [
    {
     "data": {
      "text/plain": [
       "Fatal\n",
       "No     1879404\n",
       "Yes        498\n",
       "Name: count, dtype: int64"
      ]
     },
     "execution_count": 16,
     "metadata": {},
     "output_type": "execute_result"
    }
   ],
   "source": [
    "df['Fatal'].value_counts()"
   ]
  },
  {
   "cell_type": "code",
   "execution_count": 17,
   "metadata": {},
   "outputs": [
    {
     "name": "stdout",
     "output_type": "stream",
     "text": [
      "Soonest Date: 01/01/2012\n",
      "Oldest Date: 12/31/2022\n"
     ]
    }
   ],
   "source": [
    "soonest_date = df['Date Of Stop'].min()\n",
    "oldest_date = df['Date Of Stop'].max()\n",
    "\n",
    "print(\"Soonest Date:\", soonest_date)\n",
    "print(\"Oldest Date:\", oldest_date)"
   ]
  },
  {
   "cell_type": "code",
   "execution_count": 18,
   "metadata": {},
   "outputs": [
    {
     "name": "stderr",
     "output_type": "stream",
     "text": [
      "[nltk_data] Downloading package punkt to\n",
      "[nltk_data]     C:\\Users\\ishaq\\AppData\\Roaming\\nltk_data...\n",
      "[nltk_data]   Package punkt is already up-to-date!\n"
     ]
    },
    {
     "data": {
      "text/plain": [
       "True"
      ]
     },
     "execution_count": 18,
     "metadata": {},
     "output_type": "execute_result"
    }
   ],
   "source": [
    "import nltk\n",
    "nltk.download('punkt')"
   ]
  },
  {
   "cell_type": "code",
   "execution_count": 19,
   "metadata": {},
   "outputs": [
    {
     "data": {
      "text/plain": [
       "Description\n",
       "DRIVER FAILURE TO OBEY PROPERLY PLACED TRAFFIC CONTROL DEVICE INSTRUCTIONS                     156937\n",
       "FAILURE TO DISPLAY REGISTRATION CARD UPON DEMAND BY POLICE OFFICER                              84442\n",
       "DRIVING VEHICLE ON HIGHWAY WITH SUSPENDED REGISTRATION                                          55131\n",
       "FAILURE OF INDIVIDUAL DRIVING ON HIGHWAY TO DISPLAY LICENSE TO UNIFORMED POLICE ON DEMAND       49804\n",
       "DISPLAYING EXPIRED REGISTRATION PLATE ISSUED BY ANY STATE                                       47429\n",
       "                                                                                                ...  \n",
       "DRIVING VEH W/ TV-TYPE RECEIVING EQUIPTHAT IS ON AND VISIBLE TO THE DRIVER)ON HWY                   1\n",
       "DRIVING VEHICLE IN EXCESS OF REASONABLE AND PRUDENT SPEED ON HIGHWAY 66/40 ZONE                     1\n",
       "PARKING VEH. LEFT WHEELS TO CURB                                                                    1\n",
       "DRIVE, ATTEMPT TO DRIVE VEH. WHILE IMPAIRED BY DRUG OR DRUG AND ALCOHOL WHILE TRANSP. MINOR         1\n",
       "OPERATE MOTOR VEH ON HWY WITHOUT REQUIRED STOP LAMP                                                 1\n",
       "Name: count, Length: 16361, dtype: int64"
      ]
     },
     "execution_count": 19,
     "metadata": {},
     "output_type": "execute_result"
    }
   ],
   "source": [
    "df['Description'].value_counts()"
   ]
  },
  {
   "cell_type": "code",
   "execution_count": 21,
   "metadata": {},
   "outputs": [],
   "source": [
    "import pandas as pd\n",
    "from itertools import combinations\n",
    "from collections import Counter\n",
    "\n",
    "\n",
    "df['Tokens'] = df['Description'].str.split()\n",
    "\n",
    "def common_words(desc1, desc2, min_common_words):\n",
    "    common = set(desc1) & set(desc2)\n",
    "    if len(common) >= min_common_words:\n",
    "        return ' '.join(common)\n",
    "    else:\n",
    "        return ' '.join(desc1)\n",
    "\n",
    "combinations = list(combinations(df['Tokens'], 2))\n",
    "min_common_words = 3\n",
    "\n",
    "for desc1, desc2 in combinations:\n",
    "    common = common_words(desc1, desc2, min_common_words)\n",
    "    if common:\n",
    "        df['Description'] = df['Description'].str.replace(f\"{' '.join(desc1)}|{' '.join(desc2)}\", common)\n",
    "\n",
    "df.drop(columns=['Tokens'], inplace=True)\n",
    "\n",
    "print(df)"
   ]
  },
  {
   "cell_type": "code",
   "execution_count": null,
   "metadata": {},
   "outputs": [
    {
     "data": {
      "text/plain": [
       "Description\n",
       "A description with some words here.    1\n",
       "A different description.               1\n",
       "A unique text.                         1\n",
       "Some words in this description.        1\n",
       "Name: count, dtype: int64"
      ]
     },
     "execution_count": 12,
     "metadata": {},
     "output_type": "execute_result"
    }
   ],
   "source": [
    "df['Description'].value_counts()"
   ]
  }
 ],
 "metadata": {
  "colab": {
   "authorship_tag": "ABX9TyMUxnPRrDJd9WoH5AFI5FkE",
   "include_colab_link": true,
   "provenance": []
  },
  "kernelspec": {
   "display_name": "Python 3 (ipykernel)",
   "language": "python",
   "name": "python3"
  },
  "language_info": {
   "codemirror_mode": {
    "name": "ipython",
    "version": 3
   },
   "file_extension": ".py",
   "mimetype": "text/x-python",
   "name": "python",
   "nbconvert_exporter": "python",
   "pygments_lexer": "ipython3",
   "version": "3.11.5"
  }
 },
 "nbformat": 4,
 "nbformat_minor": 1
}
