{
 "cells": [
  {
   "cell_type": "markdown",
   "metadata": {
    "colab_type": "text",
    "id": "view-in-github"
   },
   "source": [
    "<a href=\"https://colab.research.google.com/github/ishaqmarashy/red-light-traffic-violation-classification/blob/main/decision%20tree%20classifier.ipynb\" target=\"_parent\"><img src=\"https://colab.research.google.com/assets/colab-badge.svg\" alt=\"Open In Colab\"/></a>"
   ]
  },
  {
   "cell_type": "code",
   "execution_count": null,
   "metadata": {
    "id": "ot8RsUkAR87V"
   },
   "outputs": [],
   "source": [
    "import pandas as pd\n",
    "\n",
    "csv_url = \"./data/Traffic_Violations.csv\"\n",
    "##csv_url = \"https://data.montgomerycountymd.gov/api/views/4mse-ku6q/rows.csv?accessType=DOWNLOAD\"\n",
    "# Load the CSV data into a Pandas DataFrame\n",
    "df = pd.read_csv(csv_url)"
   ]
  },
  {
   "cell_type": "code",
   "execution_count": null,
   "metadata": {},
   "outputs": [],
   "source": [
    "list(df)"
   ]
  },
  {
   "cell_type": "code",
   "execution_count": null,
   "metadata": {},
   "outputs": [],
   "source": [
    "# Check the features here for colums that may be useful\n",
    "# Unique entries are a good way to get an idea of what the features mean \n",
    "df_filtered['Date Of Stop'].unique()"
   ]
  },
  {
   "cell_type": "code",
   "execution_count": null,
   "metadata": {},
   "outputs": [],
   "source": [
    "# Removed columns that do not contribute to outcome or are incomplete\n",
    "columns_to_drop = [\n",
    "        'SeqID',\n",
    "        'Agency',\n",
    "        'SubAgency',\n",
    "        'Location',\n",
    "        'Latitude',\n",
    "        'Longitude',\n",
    "        'Fatal',\n",
    "        'Commercial License',\n",
    "        'HAZMAT',\n",
    "        'Commercial Vehicle',\n",
    "        'Search Conducted',\n",
    "        'Search Disposition',\n",
    "        'Search Outcome',\n",
    "        'Search Type',\n",
    "        'Article',\n",
    "        'Contributed To Accident',\n",
    "        'Driver City',\n",
    "        'Driver State',\n",
    "        'Arrest Type',\n",
    "        'SeqID',\n",
    "        'Search Reason',\n",
    "        'Search Reason For Stop',\n",
    "        'Charge',\n",
    "        'Search Arrest Reason',\n",
    "        'Geolocation']\n",
    "# Drop the specified columns\n",
    "df_filtered = df.drop(columns=columns_to_drop, errors='ignore')\n",
    "# The dataset being used contains all traffic violations\n",
    "# Keywords a crucial for determining the type of violation\n",
    "# I used the unique to find the feature values in description\n",
    "# My initial stratagy for finding these keywords is by using ctrl+f on notepad++ and searching for red and stop\n",
    "df_filtered = df_filtered.dropna(subset=['Description'])\n",
    "df_filtered = df_filtered[df_filtered['Description'].str.contains(' stop ', case=False) &\n",
    "                               df_filtered['Description'].str.contains(' red ', case=False) &\n",
    "                               df_filtered['Description'].str.contains(' fail', case=False)]\n",
    "list(df_filtered)"
   ]
  },
  {
   "cell_type": "code",
   "execution_count": null,
   "metadata": {},
   "outputs": [],
   "source": [
    "df_filtered['Description'].count()"
   ]
  },
  {
   "cell_type": "code",
   "execution_count": null,
   "metadata": {},
   "outputs": [],
   "source": [
    "df_filtered['Description'].value_counts()"
   ]
  }
 ],
 "metadata": {
  "colab": {
   "authorship_tag": "ABX9TyMUxnPRrDJd9WoH5AFI5FkE",
   "include_colab_link": true,
   "provenance": []
  },
  "kernelspec": {
   "display_name": "Python 3 (ipykernel)",
   "language": "python",
   "name": "python3"
  },
  "language_info": {
   "codemirror_mode": {
    "name": "ipython",
    "version": 3
   },
   "file_extension": ".py",
   "mimetype": "text/x-python",
   "name": "python",
   "nbconvert_exporter": "python",
   "pygments_lexer": "ipython3",
   "version": "3.11.5"
  }
 },
 "nbformat": 4,
 "nbformat_minor": 1
}
